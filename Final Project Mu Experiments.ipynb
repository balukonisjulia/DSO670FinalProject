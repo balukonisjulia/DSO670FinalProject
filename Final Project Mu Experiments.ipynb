{
 "cells": [
  {
   "cell_type": "markdown",
   "metadata": {},
   "source": [
    "# Experimenting with Prescription Factor ($\\mu$) \n",
    "\n",
    "This experiment is based off of Optimal Prescriptive Trees by Bertsimas, Dunn, and Mundru (2019). \n",
    "\n",
    "@article{bertsimas2019optimal,\n",
    "  title={Optimal prescriptive trees},\n",
    "  author={Bertsimas, Dimitris and Dunn, Jack and Mundru, Nishanth},\n",
    "  journal={INFORMS Journal on Optimization},\n",
    "  pages={ijoo--2018},\n",
    "  year={2019},\n",
    "  publisher={INFORMS}\n",
    "}\n",
    "\n",
    "\n",
    "I use the InterpretableAI Software\n",
    "@misc{InterpretableAI,\n",
    "  author = \"Interpretable AI, LLC\",\n",
    "  title = \"Interpretable AI Documentation\",\n",
    "  year = 2020,\n",
    "  url = \"https://www.interpretable.ai\"\n",
    "}\n",
    "\n",
    "\n"
   ]
  },
  {
   "cell_type": "markdown",
   "metadata": {},
   "source": [
    "# Imports and Installs"
   ]
  },
  {
   "cell_type": "code",
   "execution_count": null,
   "metadata": {
    "scrolled": false
   },
   "outputs": [],
   "source": [
    "!/usr/bin/env python"
   ]
  },
  {
   "cell_type": "code",
   "execution_count": 19,
   "metadata": {},
   "outputs": [
    {
     "name": "stdout",
     "output_type": "stream",
     "text": [
      "Requirement already satisfied: matplotlib in /Users/juliabalukonis/.julia/conda/3/lib/python3.8/site-packages (3.3.3)\r\n",
      "Requirement already satisfied: python-dateutil>=2.1 in /Users/juliabalukonis/.julia/conda/3/lib/python3.8/site-packages (from matplotlib) (2.8.1)\r\n",
      "Requirement already satisfied: cycler>=0.10 in /Users/juliabalukonis/.julia/conda/3/lib/python3.8/site-packages (from matplotlib) (0.10.0)\r\n",
      "Requirement already satisfied: kiwisolver>=1.0.1 in /Users/juliabalukonis/.julia/conda/3/lib/python3.8/site-packages (from matplotlib) (1.3.1)\r\n",
      "Requirement already satisfied: pyparsing!=2.0.4,!=2.1.2,!=2.1.6,>=2.0.3 in /Users/juliabalukonis/.julia/conda/3/lib/python3.8/site-packages (from matplotlib) (2.4.7)\r\n",
      "Requirement already satisfied: numpy>=1.15 in /Users/juliabalukonis/.julia/conda/3/lib/python3.8/site-packages (from matplotlib) (1.19.2)\r\n",
      "Requirement already satisfied: pillow>=6.2.0 in /Users/juliabalukonis/.julia/conda/3/lib/python3.8/site-packages (from matplotlib) (8.0.1)\r\n",
      "Requirement already satisfied: six>=1.5 in /Users/juliabalukonis/.julia/conda/3/lib/python3.8/site-packages (from python-dateutil>=2.1->matplotlib) (1.15.0)\r\n"
     ]
    }
   ],
   "source": [
    "#Must install matplotlib in Python 3\n",
    "!pip3 install matplotlib"
   ]
  },
  {
   "cell_type": "code",
   "execution_count": 64,
   "metadata": {},
   "outputs": [],
   "source": [
    "#Imports\n",
    "import numpy as np\n",
    "import pandas as pd\n",
    "import random\n",
    "from math import exp\n",
    "import matplotlib.pyplot as plt\n",
    "from operator import itemgetter\n",
    "import sklearn\n",
    "from sklearn.neighbors import KNeighborsClassifier\n",
    "from sklearn.model_selection import train_test_split \n",
    "from sklearn.metrics import mean_squared_error\n",
    "from sklearn import preprocessing\n",
    "from sklearn.model_selection import KFold"
   ]
  },
  {
   "cell_type": "code",
   "execution_count": 21,
   "metadata": {},
   "outputs": [
    {
     "name": "stdout",
     "output_type": "stream",
     "text": [
      "Requirement already satisfied: interpretableai in /Users/juliabalukonis/.julia/conda/3/lib/python3.8/site-packages (2.2.0)\n",
      "Requirement already satisfied: future in /Users/juliabalukonis/.julia/conda/3/lib/python3.8/site-packages (from interpretableai) (0.18.2)\n",
      "Requirement already satisfied: julia>=0.5 in /Users/juliabalukonis/.julia/conda/3/lib/python3.8/site-packages (from interpretableai) (0.5.6)\n",
      "Requirement already satisfied: pandas>=0.24 in /Users/juliabalukonis/.julia/conda/3/lib/python3.8/site-packages (from interpretableai) (1.1.4)\n",
      "Requirement already satisfied: python-dateutil>=2.7.3 in /Users/juliabalukonis/.julia/conda/3/lib/python3.8/site-packages (from pandas>=0.24->interpretableai) (2.8.1)\n",
      "Requirement already satisfied: numpy>=1.15.4 in /Users/juliabalukonis/.julia/conda/3/lib/python3.8/site-packages (from pandas>=0.24->interpretableai) (1.19.2)\n",
      "Requirement already satisfied: pytz>=2017.2 in /Users/juliabalukonis/.julia/conda/3/lib/python3.8/site-packages (from pandas>=0.24->interpretableai) (2020.4)\n",
      "Requirement already satisfied: six>=1.5 in /Users/juliabalukonis/.julia/conda/3/lib/python3.8/site-packages (from python-dateutil>=2.7.3->pandas>=0.24->interpretableai) (1.15.0)\n",
      "Note: you may need to restart the kernel to use updated packages.\n"
     ]
    }
   ],
   "source": [
    "#Install the InterpretableAI package to Python\n",
    "!pip install interpretableai"
   ]
  },
  {
   "cell_type": "code",
   "execution_count": 22,
   "metadata": {},
   "outputs": [],
   "source": [
    "#Import the software\n",
    "import interpretableai\n",
    "interpretableai.install(runtime='/Applications/Julia-1.5.app/Contents/Resources/julia/bin/julia')"
   ]
  },
  {
   "cell_type": "code",
   "execution_count": 23,
   "metadata": {
    "scrolled": true
   },
   "outputs": [],
   "source": [
    "#Import Julia to run InterpretableAI in Python\n",
    "from julia import Julia\n",
    "Julia(runtime='/Applications/Julia-1.5.app/Contents/Resources/julia/bin/julia', compiled_modules=False)  # and any other parameters as needed\n",
    "from interpretableai import iai"
   ]
  },
  {
   "cell_type": "markdown",
   "metadata": {},
   "source": [
    "# Generate Synthetic Data\n",
    "\n",
    "This generation of data is used in Bertsimas et al. (2019) but originally described in \"Some methods for heterogeneous treatment effect estimation in high-dimensions\" by Powers et al. (2017)."
   ]
  },
  {
   "cell_type": "code",
   "execution_count": 24,
   "metadata": {},
   "outputs": [],
   "source": [
    "#Denote a random seed\n",
    "np.random.seed(123)\n",
    "p = 10\n",
    "\n",
    "#Generate the covariates of each sample with n being number of samples and p being the number of covariates\n",
    "def generate_X(n, p):\n",
    "    X = np.zeros((n, p))\n",
    "    for j in range(p):\n",
    "        if j % 2 == 0:\n",
    "            X[:, j] = np.random.randn(n)\n",
    "        else:\n",
    "            X[:, j] = np.random.randint(0, 2, n)\n",
    "    return pd.DataFrame(X, columns=[\"x\" + str(j + 1) for j in range(p)])"
   ]
  },
  {
   "cell_type": "code",
   "execution_count": 25,
   "metadata": {},
   "outputs": [],
   "source": [
    "#Define some treatment effect (Based off of the synthetic data generation in Bertsimas et al. (2019))\n",
    "def treatment_effect(x):\n",
    "    return (\n",
    "        4 * (1 if x.x1 > 1 else 0) * (1 if x.x3 > 0 else 0) +\n",
    "        4 * (1 if x.x5 > 1 else 0) * (1 if x.x7 > 0 else 0) +\n",
    "        2 * x.x8 * x.x9\n",
    "    )\n",
    "\n",
    "#Generate outcomes for each treatment (Based off of the synthetic data generation in Bertsimas et al. (2019))\n",
    "#There is yA which is the outcome for treatment A and yB which is the outcome for treatment B\n",
    "def generate_outcomes(x):\n",
    "    baseline = 10\n",
    "    effect = treatment_effect(x)\n",
    "    yA = baseline - 0.5 * effect\n",
    "    yB = baseline + 0.5 * effect\n",
    "    return yA, yB"
   ]
  },
  {
   "cell_type": "code",
   "execution_count": null,
   "metadata": {},
   "outputs": [],
   "source": [
    "#Generate treatments and outcomes based on the treatments (Based off of the synthetic data generation in Bertsimas et al. (2019))\n",
    "\n",
    "#This generates a randomly assigned treatment to a subject and the outcome that is observed for that treatment\n",
    "#which is based on some probability calculated from the effects of the outcomes.\n",
    "#all_outcomes contains the synthetic, known outcomes for the counterfactual treatments for each subject as well\n",
    "#This is for oracle comparisons later\n",
    "\n",
    "def generate_treatment_and_outcome(X):\n",
    "    n = X.shape[0]\n",
    "    assigned_treatments = np.zeros(n, dtype='object')\n",
    "    assigned_outcomes = np.zeros(n)\n",
    "    all_outcomes = np.zeros((n, 2))\n",
    "    for i in range(n):\n",
    "        all_outcomes[i, :] = generate_outcomes(X.iloc[i])\n",
    "        outcomeA=all_outcomes[i,0]\n",
    "        outcomeB=all_outcomes[i,1]\n",
    "        effect = outcomeB - outcomeA\n",
    "        prob = exp(effect) / (exp(effect) + 1)\n",
    "        if np.random.rand() < prob:\n",
    "            assigned_treatments[i] = \"A\"\n",
    "            assigned_outcomes[i] = outcomeA\n",
    "        else:\n",
    "            assigned_treatments[i] = \"B\"\n",
    "            assigned_outcomes[i] = outcomeB\n",
    "        assigned_outcomes[i] += 0.2 * np.random.randn() #This adds a random noise to the outcomes of an assigned treatment\n",
    "    return assigned_treatments, assigned_outcomes, all_outcomes\n"
   ]
  },
  {
   "cell_type": "code",
   "execution_count": null,
   "metadata": {},
   "outputs": [],
   "source": [
    "#We generate n samples with covariates (X), assigned treatments, observed outcomes, and oracle counterfactual outcomes\n",
    "n = 10000\n",
    "X = generate_X(n, p)\n",
    "treatments, outcomes, all_outcomes = generate_treatment_and_outcome(X)"
   ]
  },
  {
   "cell_type": "code",
   "execution_count": null,
   "metadata": {
    "scrolled": true
   },
   "outputs": [],
   "source": [
    "print(treatments) #example of treatment setup"
   ]
  },
  {
   "cell_type": "code",
   "execution_count": null,
   "metadata": {},
   "outputs": [],
   "source": [
    "print(all_outcomes[1]) #example of oracle counterfactual outcomes"
   ]
  },
  {
   "cell_type": "code",
   "execution_count": null,
   "metadata": {},
   "outputs": [],
   "source": [
    "print(outcomes[1]) #example of observed outcome (with noise)"
   ]
  },
  {
   "cell_type": "code",
   "execution_count": null,
   "metadata": {},
   "outputs": [],
   "source": [
    "#Split data into training and testing for model fitting (80:20 split)\n",
    "train_X, test_X, train_treatments, test_treatments, train_outcomes, test_outcomes, train_all_outcomes, test_all_outcomes = train_test_split(X, treatments, outcomes, all_outcomes, train_size=0.80, test_size=0.20)\n"
   ]
  },
  {
   "cell_type": "markdown",
   "metadata": {},
   "source": [
    "# Defining Functions "
   ]
  },
  {
   "cell_type": "code",
   "execution_count": null,
   "metadata": {},
   "outputs": [],
   "source": [
    "#Define oracle that returns the best possible treatment and known outcome from the produced data\n",
    "#We assume we are minimizing the outcome value\n",
    "def oracle(X, outcomes):\n",
    "    best_treatment = ['A' if outcomes[i, 0] < outcomes[i, 1] else 'B'\n",
    "                      for i in range(X.shape[0])]\n",
    "    best_outcome = [np.min(outcomes[i, :]) for i in range(X.shape[0])]\n",
    "    \n",
    "    return best_treatment, best_outcome"
   ]
  },
  {
   "cell_type": "code",
   "execution_count": null,
   "metadata": {},
   "outputs": [],
   "source": [
    "#Define evaluate_outcomes function that computes the mean_squared error between the model predicted outcomes and the computed outcomes\n",
    "#computed_outcomes should be predicted using oracle, knn_cf, or baseline functions\n",
    "\n",
    "def evaluate_outcomes(grid, test_X, computed_outcomes):\n",
    "    treatment_predictions, outcome_predictions = grid.predict(test_X)\n",
    "    outcome_error = mean_squared_error(computed_outcomes, outcome_predictions)\n",
    "\n",
    "    return outcome_error"
   ]
  },
  {
   "cell_type": "code",
   "execution_count": null,
   "metadata": {},
   "outputs": [],
   "source": [
    "#Define evaluate_accuracy function that computes treatment and outcome accuracy based on the oracle treatments and outcomes\n",
    "#This can be used to evaluate different models against the ground truth\n",
    "\n",
    "def evaluate_accuracy(grid, X, computed_treatments, computed_outcomes):\n",
    "    treatment_predictions, outcome_predictions = grid.predict(X)\n",
    "    treatment_accuracy = np.mean(np.array(computed_treatments) ==\n",
    "                                 np.array(treatment_predictions))\n",
    "    outcome_accuracy = 1 - (np.sum((computed_outcomes - outcome_predictions) ** 2) /\n",
    "                            np.sum((computed_outcomes - np.mean(computed_outcomes)) ** 2))\n",
    "\n",
    "    return treatment_accuracy, outcome_accuracy\n",
    "    \n"
   ]
  },
  {
   "cell_type": "code",
   "execution_count": null,
   "metadata": {},
   "outputs": [],
   "source": [
    "#Define evaluate_mu to test 101 mu values between 0-1 and record the mu values and outcome_error values\n",
    "#This can be used to see which is the most effective mu for the model based off of the outcome_error\n",
    "#computed_outcomes should be predicted using oracle, knn_cf, or baseline functions\n",
    "#Return list of mu values and list of outcome errors for each model OPT(mu)\n",
    "def evaluate_mu(train_X, train_treatments, train_outcomes, test_X, computed_outcomes):\n",
    "    mu_list=[]\n",
    "    outcome_error_list=[]\n",
    "    for i in range(0,101): #0-101\n",
    "        mu=i/100\n",
    "        grid = iai.GridSearch(  #Run OPT framework with mu value \n",
    "            iai.OptimalTreePrescriptionMinimizer(\n",
    "                random_seed=1,\n",
    "                prescription_factor=mu\n",
    "            ),\n",
    "            max_depth=range(1, 6),\n",
    "        )\n",
    "        grid.fit(train_X, train_treatments, train_outcomes)\n",
    "        outcome_error = evaluate_outcomes(grid, test_X, computed_outcomes) #Test predicted model's outcomes versus the computed_outcomes\n",
    "        mu_list.append(mu)\n",
    "        outcome_error_list.append(outcome_error)\n",
    "    return mu_list, outcome_error_list\n",
    "\n",
    "#Define optimal_mu function to determine which mu has the least outcome_error\n",
    "#This can be used to determine which mu to use for your model in further testing\n",
    "#NOTE: If mu has multiple optimal values, it will just put the first one shown, but we can look at the data\n",
    "def optimal_mu(mu_list, outcome_error_list): \n",
    "    index = min(enumerate(outcome_error_list), key=itemgetter(1))[0] \n",
    "    return mu_list[index]\n",
    "        \n",
    "#Define plot_mu_outcome_error to plot the outcome_error based on the mu value used in your model\n",
    "#name is the name of your plot, and you can use this to name the y axis as well\n",
    "def plot_mu_outcome_error(mu_list, outcome_error_list, name):\n",
    "    plt.plot(mu_list, outcome_error_list)\n",
    "    plt.xlabel('Mu value')\n",
    "    plt.ylabel(name)\n",
    "    plt.title(name)\n",
    "\n",
    "    plt.show()"
   ]
  },
  {
   "cell_type": "markdown",
   "metadata": {},
   "source": [
    "# Optimal Oracle $\\mu$ Experiment \n",
    "\n",
    "I aim to train an optimal prescriptive tree that will minimize the outcome error of the training outcomes against the oracle outcomes. Then, I will plot the varying outcome error for the various $\\mu$ values, and then will determine the optimal $\\mu$ value based on the least outcome error."
   ]
  },
  {
   "cell_type": "code",
   "execution_count": null,
   "metadata": {},
   "outputs": [],
   "source": [
    "#Compute oracle treatments and outcomes for the test set\n",
    "oracle_treatments, oracle_outcomes = oracle(test_X, test_all_outcomes)"
   ]
  },
  {
   "cell_type": "code",
   "execution_count": null,
   "metadata": {
    "scrolled": true
   },
   "outputs": [],
   "source": [
    "#Test the trained model with the testing set\n",
    "#Evaluate mu by comparing predictions on the test set from your trained model against the oracle outcomes \n",
    "mu_list, oracle_outcome_error_list = evaluate_mu(train_X, train_treatments, train_outcomes, test_X, oracle_outcomes)"
   ]
  },
  {
   "cell_type": "code",
   "execution_count": 55,
   "metadata": {},
   "outputs": [
    {
     "data": {
      "image/png": "[encoded data removed]",
      "text/plain": [
       "<Figure size 432x288 with 1 Axes>"
      ]
     },
     "metadata": {
      "needs_background": "light"
     },
     "output_type": "display_data"
    }
   ],
   "source": [
    "#Plot the outcome_error for each mu value for your oracle outcomes\n",
    "plot_mu_outcome_error(mu_list, oracle_outcome_error_list, name=\"Oracle Outcome Error\")"
   ]
  },
  {
   "cell_type": "code",
   "execution_count": 54,
   "metadata": {
    "scrolled": true
   },
   "outputs": [
    {
     "name": "stdout",
     "output_type": "stream",
     "text": [
      "Optimal Oracle Mu is:  0.22\n"
     ]
    }
   ],
   "source": [
    "#Fine optimal mu based on the oracle outcome error\n",
    "optimal_oracle_mu = optimal_mu(mu_list, oracle_outcome_error_list)\n",
    "print(\"Optimal Oracle Mu is: \", optimal_oracle_mu)"
   ]
  },
  {
   "cell_type": "markdown",
   "metadata": {},
   "source": [
    "# Optimal Baseline $\\mu$ Experiment \n",
    "\n",
    "I aim to train an optimal prescriptive tree that will minimize the outcome error of the training outcomes against the baseline outcomes that were originally assigned. Then, I will plot the varying outcome error for the various $\\mu$ values, and then will determine the optimal $\\mu$ value based on the least outcome error."
   ]
  },
  {
   "cell_type": "code",
   "execution_count": 57,
   "metadata": {
    "scrolled": true
   },
   "outputs": [],
   "source": [
    "#Baseline outcomes is just the test_outcomes that were observed\n",
    "baseline_outcomes = test_outcomes\n",
    "\n",
    "#Test the trained model with the testing set\n",
    "#Evaluate mu by comparing predictions on the test set from your trained model against the baseline outcomes \n",
    "mu_list, bl_outcome_error_list = evaluate_mu(train_X, train_treatments, train_outcomes, test_X, baseline_outcomes)\n"
   ]
  },
  {
   "cell_type": "code",
   "execution_count": 58,
   "metadata": {},
   "outputs": [
    {
     "data": {
      "image/png": "[encoded data removed]",
      "text/plain": [
       "<Figure size 432x288 with 1 Axes>"
      ]
     },
     "metadata": {
      "needs_background": "light"
     },
     "output_type": "display_data"
    }
   ],
   "source": [
    "#Plot the outcome_error for each mu value for your baseline outcomes\n",
    "plot_mu_outcome_error(mu_list, bl_outcome_error_list, name=\"Baseline Outcome Error\")"
   ]
  },
  {
   "cell_type": "code",
   "execution_count": 59,
   "metadata": {
    "scrolled": true
   },
   "outputs": [
    {
     "name": "stdout",
     "output_type": "stream",
     "text": [
      "Optimal Baseline Mu is:  0.22\n"
     ]
    }
   ],
   "source": [
    "#Fine optimal mu based on the baseline outcome error\n",
    "optimal_baseline_mu = optimal_mu(mu_list, bl_outcome_error_list)\n",
    "print(\"Optimal Baseline Mu is: \", optimal_baseline_mu)"
   ]
  },
  {
   "cell_type": "markdown",
   "metadata": {},
   "source": [
    "# Optimal KNN-CF $\\mu$ Experiment \n",
    "\n",
    "I aim to train an optimal prescriptive tree that will minimize the outcome error of the training outcomes against the counterfactual outcomes found by the KNN method. Then, I will plot the varying outcome error for the various $\\mu$ values, and then will determine the optimal $\\mu$ value based on the least outcome error."
   ]
  },
  {
   "cell_type": "code",
   "execution_count": 201,
   "metadata": {
    "scrolled": true
   },
   "outputs": [],
   "source": [
    "#Define knn_counterfactuals function to calculate counterfactuals of the treatment outcomes \n",
    "#(Very convoluted, but I could not figure out how to split the data sets into the treatments in an easier way)\n",
    "\n",
    "def knn_counterfactuals(test_X, test_treatments, test_outcomes):\n",
    "    kf = KFold(n_splits=5) #Split data into 5 subsets to do cross validation\n",
    "    kf.get_n_splits(test_X)\n",
    "    knn_X = pd.DataFrame() #Declare a DataFrame to hold the X values in order as tested\n",
    "    knn_all_outcomes = np.empty(shape=(0,2))\n",
    "    for train_index, test_index in kf.split(X): #Loop to do cross validation\n",
    "         \n",
    "        #Make sure X, treatments, and outcomes are lined up for each index\n",
    "        train_X, test_X = X.loc[train_index], X.loc[test_index] \n",
    "        train_treatments, test_treatments = treatments[train_index], treatments[test_index]\n",
    "        train_outcomes, test_outcomes = outcomes[train_index], outcomes[test_index]\n",
    "        \n",
    "        #Line up the treatments and outcomes into the dataframes to keep track \n",
    "        train_X['train_treatments']=train_treatments\n",
    "        train_X['train_outcomes']=train_outcomes\n",
    "        test_X['test_treatments']=test_treatments\n",
    "        test_X['test_outcomes']=test_outcomes\n",
    "\n",
    "        #Split the training and testing data into the different treatments\n",
    "        train_X_A=train_X[train_X['train_treatments']=='A']\n",
    "        train_X_B=train_X[train_X['train_treatments']=='B']\n",
    "        test_X_A=test_X[test_X['test_treatments']=='A']\n",
    "        test_X_B=test_X[test_X['test_treatments']=='B']\n",
    "\n",
    "        #Take the last columns as numpy arrays to hold treatments and outcomes\n",
    "        train_treatments_A=train_X_A['train_treatments'].to_numpy(dtype=None)\n",
    "        train_treatments_B=train_X_B['train_treatments'].to_numpy(dtype=None)\n",
    "        test_treatments_A=test_X_A['test_treatments'].to_numpy(dtype=None)\n",
    "        test_treatments_B=test_X_B['test_treatments'].to_numpy(dtype=None)\n",
    "        train_outcomes_A=train_X_A['train_outcomes'].to_numpy(dtype=None)\n",
    "        train_outcomes_B=train_X_B['train_outcomes'].to_numpy(dtype=None)\n",
    "        test_outcomes_A=test_X_A['test_outcomes'].to_numpy(dtype=None)\n",
    "        test_outcomes_B=test_X_B['test_outcomes'].to_numpy(dtype=None)\n",
    "\n",
    "        #Drop the treatments and outcomes columns from the dataframe so X is just covariates again\n",
    "        train_X_A.drop(columns=['train_treatments', 'train_outcomes'], inplace=True)\n",
    "        train_X_B.drop(columns=['train_treatments', 'train_outcomes'], inplace=True)\n",
    "        test_X_A.drop(columns=['test_treatments', 'test_outcomes'], inplace=True)\n",
    "        test_X_B.drop(columns=['test_treatments', 'test_outcomes'], inplace=True)\n",
    "        \n",
    "        #Preprocess the data before running KNN\n",
    "        lab_enc1 = preprocessing.LabelEncoder()\n",
    "        lab_enc2 = preprocessing.LabelEncoder()\n",
    "        train_outcomes_A_encoded = lab_enc1.fit_transform(train_outcomes_A)\n",
    "        train_outcomes_B_encoded = lab_enc2.fit_transform(train_outcomes_B)\n",
    "\n",
    "        #Train a modelA for treatment A\n",
    "        modelA = KNeighborsClassifier(n_neighbors=3,metric='euclidean')\n",
    "        modelA.fit(train_X_A, train_outcomes_A_encoded)\n",
    "        #Train a modelB for treatment B\n",
    "        modelB = KNeighborsClassifier(n_neighbors=3,metric='euclidean')\n",
    "        modelB.fit(train_X_B, train_outcomes_B_encoded)\n",
    "        \n",
    "        #Using modelA to predict counterfactuals for X that previously was assigned treatment B and vice versa\n",
    "        test_outcomes_BtoA = modelA.predict(test_X_B)\n",
    "        test_outcomes_AtoB = modelB.predict(test_X_A)\n",
    "        \n",
    "        #Decode the outcomes\n",
    "        test_outcomes_BtoA = lab_enc1.inverse_transform(test_outcomes_BtoA)\n",
    "        test_outcomes_AtoB = lab_enc2.inverse_transform(test_outcomes_AtoB)\n",
    "        \n",
    "        #Add the samples with newly estimated counterfactuals into a dataframe for covariates and an array of paired outcomes\n",
    "        knn_X = knn_X.append(test_X_A)\n",
    "        knn_X = knn_X.append(test_X_B)\n",
    "        test_all_outcomesA=np.zeros((len(test_X_A), 2))\n",
    "        test_all_outcomesB=np.zeros((len(test_X_B), 2))\n",
    "        for i in range(len(test_X_A)):\n",
    "            test_all_outcomesA[i, 0] = test_outcomes_A[i]\n",
    "            test_all_outcomesA[i, 1] = test_outcomes_AtoB[i]\n",
    "        for i in range(len(test_X_B)):\n",
    "            test_all_outcomesB[i, 0] = test_outcomes_B[i]\n",
    "            test_all_outcomesB[i, 1] = test_outcomes_BtoA[i]\n",
    "        knn_all_outcomes=np.vstack((knn_all_outcomes, test_all_outcomesA))\n",
    "        knn_all_outcomes=np.vstack((knn_all_outcomes, test_all_outcomesB))\n",
    "        \n",
    "    #return the final list of all samples and their corresponding known outcomes and predicted counterfactuals\n",
    "    return knn_X, knn_all_outcomes\n"
   ]
  },
  {
   "cell_type": "code",
   "execution_count": 202,
   "metadata": {
    "scrolled": true
   },
   "outputs": [
    {
     "name": "stderr",
     "output_type": "stream",
     "text": [
      "/Users/juliabalukonis/.julia/conda/3/lib/python3.8/site-packages/pandas/core/frame.py:4167: SettingWithCopyWarning: \n",
      "A value is trying to be set on a copy of a slice from a DataFrame\n",
      "\n",
      "See the caveats in the documentation: https://pandas.pydata.org/pandas-docs/stable/user_guide/indexing.html#returning-a-view-versus-a-copy\n",
      "  return super().drop(\n",
      "/Users/juliabalukonis/.julia/conda/3/lib/python3.8/site-packages/pandas/core/frame.py:4167: SettingWithCopyWarning: \n",
      "A value is trying to be set on a copy of a slice from a DataFrame\n",
      "\n",
      "See the caveats in the documentation: https://pandas.pydata.org/pandas-docs/stable/user_guide/indexing.html#returning-a-view-versus-a-copy\n",
      "  return super().drop(\n",
      "/Users/juliabalukonis/.julia/conda/3/lib/python3.8/site-packages/pandas/core/frame.py:4167: SettingWithCopyWarning: \n",
      "A value is trying to be set on a copy of a slice from a DataFrame\n",
      "\n",
      "See the caveats in the documentation: https://pandas.pydata.org/pandas-docs/stable/user_guide/indexing.html#returning-a-view-versus-a-copy\n",
      "  return super().drop(\n",
      "/Users/juliabalukonis/.julia/conda/3/lib/python3.8/site-packages/pandas/core/frame.py:4167: SettingWithCopyWarning: \n",
      "A value is trying to be set on a copy of a slice from a DataFrame\n",
      "\n",
      "See the caveats in the documentation: https://pandas.pydata.org/pandas-docs/stable/user_guide/indexing.html#returning-a-view-versus-a-copy\n",
      "  return super().drop(\n",
      "/Users/juliabalukonis/.julia/conda/3/lib/python3.8/site-packages/pandas/core/frame.py:4167: SettingWithCopyWarning: \n",
      "A value is trying to be set on a copy of a slice from a DataFrame\n",
      "\n",
      "See the caveats in the documentation: https://pandas.pydata.org/pandas-docs/stable/user_guide/indexing.html#returning-a-view-versus-a-copy\n",
      "  return super().drop(\n"
     ]
    }
   ],
   "source": [
    "#Compute the KNN-CF treatments and all-outcomes for the entire set \n",
    "knn_X, knn_all_outcomes = knn_counterfactuals(test_X, test_treatments, test_outcomes)"
   ]
  },
  {
   "cell_type": "code",
   "execution_count": 203,
   "metadata": {
    "scrolled": true
   },
   "outputs": [],
   "source": [
    "#Compute best KNN-CF treatments and outcomes for the test set\n",
    "knncf_treatments, knncf_outcomes = oracle(knn_X, knn_all_outcomes)"
   ]
  },
  {
   "cell_type": "code",
   "execution_count": 204,
   "metadata": {},
   "outputs": [],
   "source": [
    "#Test the trained model with the testing set\n",
    "#Evaluate mu by comparing predictions on the test set from your trained model against the knn_cf outcomes \n",
    "\n",
    "mu_list, knncf_outcome_error_list = evaluate_mu(train_X, train_treatments, train_outcomes, knn_X, knncf_outcomes)"
   ]
  },
  {
   "cell_type": "code",
   "execution_count": 205,
   "metadata": {},
   "outputs": [
    {
     "data": {
      "image/png": "[encoded data removed]",
      "text/plain": [
       "<Figure size 432x288 with 1 Axes>"
      ]
     },
     "metadata": {
      "needs_background": "light"
     },
     "output_type": "display_data"
    }
   ],
   "source": [
    "#Plot the outcome_error for each mu value for your knn_cf outcomes\n",
    "plot_mu_outcome_error(mu_list, knncf_outcome_error_list, name=\"KNN_CF Outcome Error\")"
   ]
  },
  {
   "cell_type": "code",
   "execution_count": 207,
   "metadata": {},
   "outputs": [
    {
     "name": "stdout",
     "output_type": "stream",
     "text": [
      "Optimal KNN_CF Mu is:  0.86\n"
     ]
    }
   ],
   "source": [
    "#Fine optimal mu based on the knn_cf outcome error\n",
    "optimal_knncf_mu = optimal_mu(mu_list, knncf_outcome_error_list)\n",
    "print(\"Optimal KNN_CF Mu is: \", optimal_knncf_mu)"
   ]
  },
  {
   "cell_type": "markdown",
   "metadata": {},
   "source": [
    "# Optimal Cross-validated $\\mu$'s Experiment \n",
    "\n",
    "I will find the cross-validated optimal $\\mu$ using the IAI built-in functions."
   ]
  },
  {
   "cell_type": "code",
   "execution_count": 208,
   "metadata": {},
   "outputs": [],
   "source": [
    "#Calculate cross validated mu using IAI function with the criterion focused on prediction accuracy\n",
    "grid = iai.GridSearch(\n",
    "    iai.OptimalTreePrescriptionMinimizer(\n",
    "        random_seed=1,\n",
    "        max_depth=5,\n",
    "    ),\n",
    "    prescription_factor=np.linspace(0.0, 1.0, num=10), #Test 20 mu values between 0 and 1\n",
    ")\n",
    "grid.fit_cv(test_X, test_treatments, test_outcomes, validation_criterion='prediction_accuracy')\n",
    "grid.get_best_params()\n",
    "\n",
    "#Take the best mu based on the value of prediction accuracy from the recorded results\n",
    "results_grid = grid.get_grid_results()\n",
    "optimal_predcv_mu = results_grid.loc[results_grid['rank_valid_score'].idxmin()]['prescription_factor']"
   ]
  },
  {
   "cell_type": "code",
   "execution_count": 210,
   "metadata": {},
   "outputs": [
    {
     "name": "stdout",
     "output_type": "stream",
     "text": [
      "Optimal Predictive Mu is:  0.5555555555555556\n"
     ]
    }
   ],
   "source": [
    "print(\"Optimal Predictive Mu is: \", optimal_predcv_mu)"
   ]
  },
  {
   "cell_type": "code",
   "execution_count": 209,
   "metadata": {
    "scrolled": true
   },
   "outputs": [],
   "source": [
    "#Calculate cross validated mu using IAI function with the criterion focused on prescription outcome optimality\n",
    "grid = iai.GridSearch(\n",
    "    iai.OptimalTreePrescriptionMinimizer(\n",
    "        random_seed=1,\n",
    "        max_depth=5,\n",
    "    ),\n",
    "    prescription_factor=np.linspace(0.0, 1.0, num=10),\n",
    ")\n",
    "grid.fit_cv(test_X, test_treatments, test_outcomes, validation_criterion='prescription_outcome')\n",
    "grid.get_best_params()\n",
    "\n",
    "#Take the best mu based on the value of prescription outcome from the recorded results\n",
    "results_grid = grid.get_grid_results()\n",
    "optimal_prescv_mu = results_grid.loc[results_grid['rank_valid_score'].idxmin()]['prescription_factor']"
   ]
  },
  {
   "cell_type": "code",
   "execution_count": 211,
   "metadata": {},
   "outputs": [
    {
     "name": "stdout",
     "output_type": "stream",
     "text": [
      "Optimal Prescriptive Mu is:  1.0\n"
     ]
    }
   ],
   "source": [
    "print(\"Optimal Prescriptive Mu is: \", optimal_prescv_mu)"
   ]
  },
  {
   "cell_type": "markdown",
   "metadata": {},
   "source": [
    "# Testing the Optimal $\\mu$ values in the OPT\n",
    "\n",
    "Here I test 100 realizations of the OPT($\\mu$) with the various optimal $\\mu$ values found previously. I plot the box plots of the treatment accuracy and outcome accuracy compared to the ground truth."
   ]
  },
  {
   "cell_type": "code",
   "execution_count": 212,
   "metadata": {},
   "outputs": [],
   "source": [
    "#TEST 100 CASES OF THE OPT(MU) for some mu value \n",
    "#Input the true known treatments and outcomes to compare model results\n",
    "#Return treatment accuracy and outcome accuracy for the 100 realizations \n",
    "def opt(mu, train_X, train_treatments, train_outcomes, test_X, true_treatments, true_outcomes):\n",
    "    treatment_acc_list, outcome_acc_list = [], []\n",
    "    for i in range(1,101):\n",
    "        grid = iai.GridSearch( \n",
    "            iai.OptimalTreePrescriptionMinimizer(\n",
    "                random_seed=random.randint(1,1000),\n",
    "                prescription_factor=mu,\n",
    "                treatment_minbucket=1, #A treatment is assigned if there is one assigned sample \n",
    "            ),\n",
    "            max_depth=range(1, 7),\n",
    "        )\n",
    "        grid.fit(train_X, train_treatments, train_outcomes)\n",
    "        treatment_accuracy, outcome_accuracy = evaluate_accuracy(grid, test_X, true_treatments, true_outcomes)\n",
    "        treatment_acc_list.append(treatment_accuracy)\n",
    "        outcome_acc_list.append(outcome_accuracy)\n",
    "    return treatment_acc_list, outcome_acc_list"
   ]
  },
  {
   "cell_type": "markdown",
   "metadata": {},
   "source": [
    "#Test optimal $\\mu$ values on the data and record treatment and outcome accuracy for each method."
   ]
  },
  {
   "cell_type": "code",
   "execution_count": 217,
   "metadata": {},
   "outputs": [],
   "source": [
    "oracle_treatment_acc_list, oracle_outcome_acc_list = opt(optimal_oracle_mu, train_X, train_treatments, train_outcomes, test_X, oracle_treatments, oracle_outcomes)"
   ]
  },
  {
   "cell_type": "code",
   "execution_count": 224,
   "metadata": {
    "scrolled": true
   },
   "outputs": [],
   "source": [
    "optimal_baseline_mu=0.75 #Since the mu was the same as the oracle, we will test the next best mu based on the graph\n",
    "bl_treatment_acc_list, bl_outcome_acc_list = opt(optimal_baseline_mu, train_X, train_treatments, train_outcomes, test_X, oracle_treatments, oracle_outcomes)"
   ]
  },
  {
   "cell_type": "code",
   "execution_count": 219,
   "metadata": {},
   "outputs": [],
   "source": [
    "knncf_treatment_acc_list, knncf_outcome_acc_list = opt(optimal_knncf_mu, train_X, train_treatments, train_outcomes, test_X, oracle_treatments, oracle_outcomes)"
   ]
  },
  {
   "cell_type": "code",
   "execution_count": 220,
   "metadata": {},
   "outputs": [],
   "source": [
    "predcv_treatment_acc_list, predcv_outcome_acc_list = opt(optimal_predcv_mu, train_X, train_treatments, train_outcomes, test_X, oracle_treatments, oracle_outcomes)"
   ]
  },
  {
   "cell_type": "code",
   "execution_count": 221,
   "metadata": {},
   "outputs": [],
   "source": [
    "prescv_treatment_acc_list, prescv_outcome_acc_list = opt(optimal_prescv_mu, train_X, train_treatments, train_outcomes, test_X, oracle_treatments, oracle_outcomes)"
   ]
  },
  {
   "cell_type": "code",
   "execution_count": 229,
   "metadata": {},
   "outputs": [
    {
     "data": {
      "image/png": "[encoded data removed]",
      "text/plain": [
       "<Figure size 720x504 with 1 Axes>"
      ]
     },
     "metadata": {
      "needs_background": "light"
     },
     "output_type": "display_data"
    }
   ],
   "source": [
    "#Plot the treatment accuracy box plots for each method\n",
    "treatment_acc_data = [oracle_treatment_acc_list, bl_treatment_acc_list, knncf_treatment_acc_list, predcv_treatment_acc_list, prescv_treatment_acc_list] \n",
    "\n",
    "fig = plt.figure(figsize =(10, 7)) \n",
    "ax = fig.add_axes([0, 0, 1, 1]) \n",
    "bp = ax.boxplot(treatment_acc_data) \n",
    "plt.title(\"Treatment Accuracies\")\n",
    "plt.xticks([1,2,3,4,5],['Oracle', 'Baseline', 'KNN-CF', 'Pred-CV', 'Presc-CV'])\n",
    "\n",
    "# show plot \n",
    "plt.show() "
   ]
  },
  {
   "cell_type": "code",
   "execution_count": 234,
   "metadata": {
    "scrolled": true
   },
   "outputs": [
    {
     "data": {
      "image/png": "[encoded data removed]",
      "text/plain": [
       "<Figure size 720x504 with 1 Axes>"
      ]
     },
     "metadata": {
      "needs_background": "light"
     },
     "output_type": "display_data"
    }
   ],
   "source": [
    "#Plot the outcome accuracy box plots for each method\n",
    "outcome_acc_data = [oracle_outcome_acc_list, bl_outcome_acc_list, knncf_outcome_acc_list, predcv_outcome_acc_list, prescv_outcome_acc_list] \n",
    "  \n",
    "fig = plt.figure(figsize =(10, 7)) \n",
    "ax = fig.add_axes([0, 0, 1, 1]) \n",
    "bp = ax.boxplot(outcome_acc_data) \n",
    "\n",
    "plt.title(\"Outcome Accuracies\")\n",
    "plt.xticks([1,2,3,4,5],['Oracle', 'Baseline', 'KNN-CF', 'Pred-CV', 'Presc-CV'])\n",
    "\n",
    "# show plot \n",
    "plt.show() "
   ]
  }
 ],
 "metadata": {
  "kernelspec": {
   "display_name": "Python 3",
   "language": "python",
   "name": "python3"
  }
 },
 "nbformat": 4,
 "nbformat_minor": 4
}
